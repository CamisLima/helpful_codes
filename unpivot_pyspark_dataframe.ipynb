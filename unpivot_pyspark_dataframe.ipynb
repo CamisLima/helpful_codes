{
 "cells": [
  {
   "cell_type": "code",
   "execution_count": 1,
   "id": "480f6142-ca6d-45fc-8052-533d7dbf9651",
   "metadata": {},
   "outputs": [
    {
     "data": {
      "text/html": [
       "<style>\n",
       "div.jp-OutputArea-output pre {\n",
       "    white-space: pre;\n",
       "}\n",
       "</style>\n"
      ],
      "text/plain": [
       "<IPython.core.display.HTML object>"
      ]
     },
     "metadata": {},
     "output_type": "display_data"
    }
   ],
   "source": [
    "%%html\n",
    "<style>\n",
    "div.jp-OutputArea-output pre {\n",
    "    white-space: pre;\n",
    "}\n",
    "</style>"
   ]
  },
  {
   "cell_type": "code",
   "execution_count": 2,
   "id": "42cbf742-6f9d-4ba3-aa70-24acc852d355",
   "metadata": {},
   "outputs": [
    {
     "name": "stdout",
     "output_type": "stream",
     "text": [
      "Starting Spark application\n"
     ]
    },
    {
     "data": {
      "text/html": [
       "<table>\n",
       "<tr><th>ID</th><th>YARN Application ID</th><th>Kind</th><th>State</th><th>Spark UI</th><th>Driver log</th><th>User</th><th>Current session?</th></tr><tr><td>6798</td><td>application_1664549316508_3342</td><td>pyspark</td><td>idle</td><td><a target=\"_blank\" href=\"http://ip-10-150-1-85.ec2.internal:20888/proxy/application_1664549316508_3342/\">Link</a></td><td><a target=\"_blank\" href=\"http://ip-10-150-1-172.ec2.internal:8042/node/containerlogs/container_1664549316508_3342_01_000001/livy\">Link</a></td><td>None</td><td>✔</td></tr></table>"
      ],
      "text/plain": [
       "<IPython.core.display.HTML object>"
      ]
     },
     "metadata": {},
     "output_type": "display_data"
    },
    {
     "data": {
      "application/vnd.jupyter.widget-view+json": {
       "model_id": "",
       "version_major": 2,
       "version_minor": 0
      },
      "text/plain": [
       "FloatProgress(value=0.0, bar_style='info', description='Progress:', layout=Layout(height='25px', width='50%'),…"
      ]
     },
     "metadata": {},
     "output_type": "display_data"
    },
    {
     "name": "stdout",
     "output_type": "stream",
     "text": [
      "SparkSession available as 'spark'.\n"
     ]
    },
    {
     "data": {
      "application/vnd.jupyter.widget-view+json": {
       "model_id": "",
       "version_major": 2,
       "version_minor": 0
      },
      "text/plain": [
       "FloatProgress(value=0.0, bar_style='info', description='Progress:', layout=Layout(height='25px', width='50%'),…"
      ]
     },
     "metadata": {},
     "output_type": "display_data"
    }
   ],
   "source": [
    "from time import sleep\n",
    "from pyspark.sql.types import StringType,IntegerType\n",
    "from pyspark.sql.functions import *\n",
    "from pyspark.sql.window import *\n",
    "from pyspark.storagelevel import StorageLevel\n",
    "from pyspark.sql import SparkSession\n",
    "\n",
    "# # O spark session é fundamental para a execução do script no cluster, ele deve ter esse mesmo formato.\n",
    "# # Altere o valor do app_name para o nome do seu job\n",
    "app_name = \"Análise de Volumetria\"\n",
    "spark = (SparkSession\n",
    "         .builder\n",
    "         .appName(app_name)\n",
    "         .config(\"spark.yarn.dist.file\", \"/etc/spark/conf.dist/hive-site.xml\")\n",
    "         .config(\"hive.metastore.client.factory.class\", \"com.amazonaws.glue.catalog.metastore.AWSGlueDataCatalogHiveClientFactory\")\n",
    "         .enableHiveSupport()\n",
    "         .getOrCreate()\n",
    "        )"
   ]
  },
  {
   "cell_type": "code",
   "execution_count": 3,
   "id": "70b266a1-de07-4105-bf3f-3a0ea2652283",
   "metadata": {},
   "outputs": [
    {
     "data": {
      "application/vnd.jupyter.widget-view+json": {
       "model_id": "",
       "version_major": 2,
       "version_minor": 0
      },
      "text/plain": [
       "FloatProgress(value=0.0, bar_style='info', description='Progress:', layout=Layout(height='25px', width='50%'),…"
      ]
     },
     "metadata": {},
     "output_type": "display_data"
    }
   ],
   "source": [
    "df = spark.sql('''\n",
    "select \n",
    "      *\n",
    "from \n",
    "     app_privacy.privacy_metrics\n",
    "''')"
   ]
  },
  {
   "cell_type": "code",
   "execution_count": 5,
   "id": "6ea74a58-8f46-48e1-9d1f-eb9f2b698a2a",
   "metadata": {},
   "outputs": [
    {
     "data": {
      "application/vnd.jupyter.widget-view+json": {
       "model_id": "",
       "version_major": 2,
       "version_minor": 0
      },
      "text/plain": [
       "FloatProgress(value=0.0, bar_style='info', description='Progress:', layout=Layout(height='25px', width='50%'),…"
      ]
     },
     "metadata": {},
     "output_type": "display_data"
    }
   ],
   "source": [
    "unpivotExpr = f'''\n",
    "stack(\n",
    "13,\n",
    "'name',cast(`name` as string),\n",
    "'addresses',cast(`addresses` as string),\n",
    "'birth_date',cast(`birth_date` as string),\n",
    "'documents',cast(`documents` as string),\n",
    "'email',cast(`email` as string),\n",
    "'mother_name',cast(`mother_name` as string),\n",
    "'father_name',cast(`father_name` as string),\n",
    "'gender',cast(`gender` as string),\n",
    "'phone_number',cast(`phone_number` as string),\n",
    "'selfie',cast(`selfie` as string),\n",
    "'cnh_front',cast(`cnh_front` as string),\n",
    "'cnh_verse',cast(`cnh_verse` as string),\n",
    "'federativeunit',cast(`federativeunit` as string)\n",
    ") as (item,count)\n",
    "'''"
   ]
  },
  {
   "cell_type": "code",
   "execution_count": 6,
   "id": "893e11ec-4872-4162-ab47-434752af2edd",
   "metadata": {},
   "outputs": [
    {
     "data": {
      "application/vnd.jupyter.widget-view+json": {
       "model_id": "",
       "version_major": 2,
       "version_minor": 0
      },
      "text/plain": [
       "FloatProgress(value=0.0, bar_style='info', description='Progress:', layout=Layout(height='25px', width='50%'),…"
      ]
     },
     "metadata": {},
     "output_type": "display_data"
    }
   ],
   "source": [
    "unPivotDF = df.select(\"people_id\", expr(unpivotExpr))"
   ]
  },
  {
   "cell_type": "code",
   "execution_count": 12,
   "id": "9f78bdb6-807d-4af3-b3d5-0cbfffcc68f4",
   "metadata": {},
   "outputs": [
    {
     "data": {
      "application/vnd.jupyter.widget-view+json": {
       "model_id": "",
       "version_major": 2,
       "version_minor": 0
      },
      "text/plain": [
       "FloatProgress(value=0.0, bar_style='info', description='Progress:', layout=Layout(height='25px', width='50%'),…"
      ]
     },
     "metadata": {},
     "output_type": "display_data"
    }
   ],
   "source": [
    "df_final = (unPivotDF\n",
    "            .groupBy('item')\n",
    "            .agg(\n",
    "                sum('count').cast('bigint').alias('total')\n",
    "            )\n",
    "            .orderBy('item')\n",
    "           )"
   ]
  },
  {
   "cell_type": "code",
   "execution_count": null,
   "id": "858dc1c0-a9f3-494d-9d5d-c07e044c901a",
   "metadata": {},
   "outputs": [
    {
     "data": {
      "application/vnd.jupyter.widget-view+json": {
       "model_id": "3dfca7c3ffb34892ad50872e93b769c0",
       "version_major": 2,
       "version_minor": 0
      },
      "text/plain": [
       "FloatProgress(value=0.0, bar_style='info', description='Progress:', layout=Layout(height='25px', width='50%'),…"
      ]
     },
     "metadata": {},
     "output_type": "display_data"
    }
   ],
   "source": [
    "df_final.show(15,False)"
   ]
  },
  {
   "cell_type": "code",
   "execution_count": null,
   "id": "e55e78b7-d6d9-4df0-a82b-99a7fc2c8afb",
   "metadata": {},
   "outputs": [],
   "source": []
  }
 ],
 "metadata": {
  "kernelspec": {
   "display_name": "PySpark",
   "language": "python",
   "name": "pysparkkernel"
  },
  "language_info": {
   "codemirror_mode": {
    "name": "python",
    "version": 3
   },
   "file_extension": ".py",
   "mimetype": "text/x-python",
   "name": "pyspark",
   "pygments_lexer": "python3"
  }
 },
 "nbformat": 4,
 "nbformat_minor": 5
}
