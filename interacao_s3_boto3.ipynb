{
 "cells": [
  {
   "cell_type": "markdown",
   "id": "a8374056-73de-4c38-8278-ae80c5fe2f74",
   "metadata": {},
   "source": [
    "# Configurações iniciais"
   ]
  },
  {
   "cell_type": "markdown",
   "id": "f423827b-bc01-47c6-9ad2-999178a608d4",
   "metadata": {
    "jupyter": {
     "outputs_hidden": true
    },
    "tags": []
   },
   "source": [
    "## Aplica configurações ao kernel"
   ]
  },
  {
   "cell_type": "code",
   "execution_count": 1,
   "id": "d4817596-f08e-4664-9cb7-38147ff0576a",
   "metadata": {
    "tags": []
   },
   "outputs": [
    {
     "data": {
      "text/html": [
       "Current session configs: <tt>{'conf': {'spark.pyspark.python': 'python3', 'spark.pyspark.virtualenv.enabled': 'true', 'spark.pyspark.virtualenv.type': 'native', 'spark.pyspark.virtualenv.bin.path': '/usr/bin/virtualenv', 'spark.app.name': 'Extração - Relatório Conta Remunerada'}, 'kind': 'pyspark'}</tt><br>"
      ],
      "text/plain": [
       "<IPython.core.display.HTML object>"
      ]
     },
     "metadata": {},
     "output_type": "display_data"
    },
    {
     "data": {
      "text/html": [
       "<table>\n",
       "<tr><th>ID</th><th>YARN Application ID</th><th>Kind</th><th>State</th><th>Spark UI</th><th>Driver log</th><th>User</th><th>Current session?</th></tr><tr><td>6795</td><td>application_1664549316508_3333</td><td>pyspark</td><td>idle</td><td><a target=\"_blank\" href=\"http://ip-10-150-1-85.ec2.internal:20888/proxy/application_1664549316508_3333/\">Link</a></td><td><a target=\"_blank\" href=\"http://ip-10-150-1-154.ec2.internal:8042/node/containerlogs/container_1664549316508_3333_01_000001/livy\">Link</a></td><td>None</td><td></td></tr><tr><td>6797</td><td>application_1664549316508_3340</td><td>pyspark</td><td>idle</td><td><a target=\"_blank\" href=\"http://ip-10-150-1-85.ec2.internal:20888/proxy/application_1664549316508_3340/\">Link</a></td><td><a target=\"_blank\" href=\"http://ip-10-150-1-22.ec2.internal:8042/node/containerlogs/container_1664549316508_3340_01_000001/livy\">Link</a></td><td>None</td><td></td></tr><tr><td>6798</td><td>application_1664549316508_3342</td><td>pyspark</td><td>idle</td><td><a target=\"_blank\" href=\"http://ip-10-150-1-85.ec2.internal:20888/proxy/application_1664549316508_3342/\">Link</a></td><td><a target=\"_blank\" href=\"http://ip-10-150-1-172.ec2.internal:8042/node/containerlogs/container_1664549316508_3342_01_000001/livy\">Link</a></td><td>None</td><td></td></tr><tr><td>6801</td><td>application_1664549316508_3345</td><td>pyspark</td><td>idle</td><td><a target=\"_blank\" href=\"http://ip-10-150-1-85.ec2.internal:20888/proxy/application_1664549316508_3345/\">Link</a></td><td><a target=\"_blank\" href=\"http://ip-10-150-1-22.ec2.internal:8042/node/containerlogs/container_1664549316508_3345_01_000001/livy\">Link</a></td><td>None</td><td></td></tr><tr><td>6802</td><td>application_1664549316508_3346</td><td>pyspark</td><td>idle</td><td><a target=\"_blank\" href=\"http://ip-10-150-1-85.ec2.internal:20888/proxy/application_1664549316508_3346/\">Link</a></td><td><a target=\"_blank\" href=\"http://ip-10-150-1-22.ec2.internal:8042/node/containerlogs/container_1664549316508_3346_01_000001/livy\">Link</a></td><td>None</td><td></td></tr><tr><td>6804</td><td>application_1664549316508_3348</td><td>pyspark</td><td>idle</td><td><a target=\"_blank\" href=\"http://ip-10-150-1-85.ec2.internal:20888/proxy/application_1664549316508_3348/\">Link</a></td><td><a target=\"_blank\" href=\"http://ip-10-150-1-22.ec2.internal:8042/node/containerlogs/container_1664549316508_3348_01_000001/livy\">Link</a></td><td>None</td><td></td></tr><tr><td>6805</td><td>application_1664549316508_3349</td><td>pyspark</td><td>idle</td><td><a target=\"_blank\" href=\"http://ip-10-150-1-85.ec2.internal:20888/proxy/application_1664549316508_3349/\">Link</a></td><td><a target=\"_blank\" href=\"http://ip-10-150-1-154.ec2.internal:8042/node/containerlogs/container_1664549316508_3349_01_000001/livy\">Link</a></td><td>None</td><td></td></tr><tr><td>6810</td><td>application_1664549316508_3361</td><td>pyspark</td><td>idle</td><td><a target=\"_blank\" href=\"http://ip-10-150-1-85.ec2.internal:20888/proxy/application_1664549316508_3361/\">Link</a></td><td><a target=\"_blank\" href=\"http://ip-10-150-1-154.ec2.internal:8042/node/containerlogs/container_1664549316508_3361_01_000001/livy\">Link</a></td><td>None</td><td></td></tr><tr><td>6811</td><td>application_1664549316508_3363</td><td>pyspark</td><td>idle</td><td><a target=\"_blank\" href=\"http://ip-10-150-1-85.ec2.internal:20888/proxy/application_1664549316508_3363/\">Link</a></td><td><a target=\"_blank\" href=\"http://ip-10-150-1-22.ec2.internal:8042/node/containerlogs/container_1664549316508_3363_01_000001/livy\">Link</a></td><td>None</td><td></td></tr><tr><td>6812</td><td>application_1664549316508_3364</td><td>pyspark</td><td>busy</td><td><a target=\"_blank\" href=\"http://ip-10-150-1-85.ec2.internal:20888/proxy/application_1664549316508_3364/\">Link</a></td><td><a target=\"_blank\" href=\"http://ip-10-150-1-154.ec2.internal:8042/node/containerlogs/container_1664549316508_3364_01_000001/livy\">Link</a></td><td>None</td><td></td></tr><tr><td>6813</td><td>application_1664549316508_3365</td><td>pyspark</td><td>idle</td><td><a target=\"_blank\" href=\"http://ip-10-150-1-85.ec2.internal:20888/proxy/application_1664549316508_3365/\">Link</a></td><td><a target=\"_blank\" href=\"http://ip-10-150-1-154.ec2.internal:8042/node/containerlogs/container_1664549316508_3365_01_000001/livy\">Link</a></td><td>None</td><td></td></tr><tr><td>6814</td><td>application_1664549316508_3366</td><td>pyspark</td><td>idle</td><td><a target=\"_blank\" href=\"http://ip-10-150-1-85.ec2.internal:20888/proxy/application_1664549316508_3366/\">Link</a></td><td><a target=\"_blank\" href=\"http://ip-10-150-1-154.ec2.internal:8042/node/containerlogs/container_1664549316508_3366_01_000001/livy\">Link</a></td><td>None</td><td></td></tr><tr><td>6816</td><td>application_1664549316508_3370</td><td>pyspark</td><td>idle</td><td><a target=\"_blank\" href=\"http://ip-10-150-1-85.ec2.internal:20888/proxy/application_1664549316508_3370/\">Link</a></td><td><a target=\"_blank\" href=\"http://ip-10-150-1-22.ec2.internal:8042/node/containerlogs/container_1664549316508_3370_01_000001/livy\">Link</a></td><td>None</td><td></td></tr><tr><td>6817</td><td>application_1664549316508_3385</td><td>pyspark</td><td>idle</td><td><a target=\"_blank\" href=\"http://ip-10-150-1-85.ec2.internal:20888/proxy/application_1664549316508_3385/\">Link</a></td><td><a target=\"_blank\" href=\"http://ip-10-150-1-154.ec2.internal:8042/node/containerlogs/container_1664549316508_3385_01_000001/livy\">Link</a></td><td>None</td><td></td></tr></table>"
      ],
      "text/plain": [
       "<IPython.core.display.HTML object>"
      ]
     },
     "metadata": {},
     "output_type": "display_data"
    }
   ],
   "source": [
    "%%configure -f\n",
    "{ \"conf\":{\n",
    "          \"spark.pyspark.python\": \"python3\",\n",
    "          \"spark.pyspark.virtualenv.enabled\": \"true\",\n",
    "          \"spark.pyspark.virtualenv.type\":\"native\",\n",
    "          \"spark.pyspark.virtualenv.bin.path\":\"/usr/bin/virtualenv\",\n",
    "          \"spark.app.name\": \"Extração - Relatório Conta Remunerada\"\n",
    "         },\n",
    " \"kind\":\"pyspark\"\n",
    "}"
   ]
  },
  {
   "cell_type": "markdown",
   "id": "6367a4b6-40d4-4569-bbf2-78cee8df60bc",
   "metadata": {},
   "source": [
    "## Importa bibliotecas e aplica configurações ao spark"
   ]
  },
  {
   "cell_type": "code",
   "execution_count": 2,
   "id": "d778819f-a418-4839-9541-22df1c4905e5",
   "metadata": {},
   "outputs": [
    {
     "name": "stdout",
     "output_type": "stream",
     "text": [
      "Starting Spark application\n"
     ]
    },
    {
     "data": {
      "text/html": [
       "<table>\n",
       "<tr><th>ID</th><th>YARN Application ID</th><th>Kind</th><th>State</th><th>Spark UI</th><th>Driver log</th><th>User</th><th>Current session?</th></tr><tr><td>6818</td><td>application_1664549316508_3386</td><td>pyspark</td><td>idle</td><td><a target=\"_blank\" href=\"http://ip-10-150-1-85.ec2.internal:20888/proxy/application_1664549316508_3386/\">Link</a></td><td><a target=\"_blank\" href=\"http://ip-10-150-1-22.ec2.internal:8042/node/containerlogs/container_1664549316508_3386_01_000001/livy\">Link</a></td><td>None</td><td>✔</td></tr></table>"
      ],
      "text/plain": [
       "<IPython.core.display.HTML object>"
      ]
     },
     "metadata": {},
     "output_type": "display_data"
    },
    {
     "data": {
      "application/vnd.jupyter.widget-view+json": {
       "model_id": "",
       "version_major": 2,
       "version_minor": 0
      },
      "text/plain": [
       "FloatProgress(value=0.0, bar_style='info', description='Progress:', layout=Layout(height='25px', width='50%'),…"
      ]
     },
     "metadata": {},
     "output_type": "display_data"
    },
    {
     "name": "stdout",
     "output_type": "stream",
     "text": [
      "SparkSession available as 'spark'.\n"
     ]
    },
    {
     "data": {
      "application/vnd.jupyter.widget-view+json": {
       "model_id": "",
       "version_major": 2,
       "version_minor": 0
      },
      "text/plain": [
       "FloatProgress(value=0.0, bar_style='info', description='Progress:', layout=Layout(height='25px', width='50%'),…"
      ]
     },
     "metadata": {},
     "output_type": "display_data"
    }
   ],
   "source": [
    "from pyspark.sql.window import *\n",
    "from pyspark.sql.functions import *\n",
    "from pyspark.sql.types import StringType\n",
    "from pyspark.storagelevel import StorageLevel\n",
    "from datetime import date, timedelta, datetime\n",
    "import math\n",
    "import datetime\n",
    "import json\n",
    "import pandas as pd\n",
    "import boto3\n",
    "import os\n",
    "import pytz\n",
    "import io\n",
    "import zipfile\n",
    "from dateutil.relativedelta import relativedelta\n",
    "\n",
    "spark.conf.set(\"spark.sql.files.ignoreCorruptFiles\", \"true\")\n",
    "spark.conf.set(\"spark.sql.orc.enabled\",\"true\")\n",
    "spark.conf.set(\"spark.sql.sources.partitionOverwriteMode\",\"dynamic\")\n",
    "spark.conf.set(\"spark.sql.sources.partitionColumnTypeInference.enabled\", \"false\")\n",
    "spark.conf.set(\"spark.databricks.io.cache.enabled\", \"true\")\n",
    "spark.conf.set(\"spark.databricks.delta.autoCompact.enabled\", \"true\")\n",
    "spark.conf.set(\"spark.databricks.delta.optimizeWrite.enabled\", \"true\")\n",
    "spark.conf.set(\"spark.databricks.delta.retentionDurationCheck.enabled\", \"false\")"
   ]
  },
  {
   "cell_type": "markdown",
   "id": "54eef137-8670-46d8-a0c4-0b316c949643",
   "metadata": {},
   "source": [
    "# Funções"
   ]
  },
  {
   "cell_type": "markdown",
   "id": "c1ab1a84-00a4-41f6-9882-607124c4aa16",
   "metadata": {},
   "source": [
    "Esta função faz o download de arquivos .csv disponibilizados em um Bucket e gera um dataframe a ser utilizado para atualização de tabelas auxiliares do modelo. Esses arquivos são de responsabilidade do time de Business."
   ]
  },
  {
   "cell_type": "code",
   "execution_count": 3,
   "id": "e3db14a8-e927-4a95-b5fc-f613b126ee10",
   "metadata": {},
   "outputs": [
    {
     "data": {
      "application/vnd.jupyter.widget-view+json": {
       "model_id": "",
       "version_major": 2,
       "version_minor": 0
      },
      "text/plain": [
       "FloatProgress(value=0.0, bar_style='info', description='Progress:', layout=Layout(height='25px', width='50%'),…"
      ]
     },
     "metadata": {},
     "output_type": "display_data"
    }
   ],
   "source": [
    "def atualiza_bases_auxiliares(bucket, diretorio, filename):\n",
    "    \n",
    "    s3_resource.Bucket(bucket).download_file(diretorio + filename,filename)\n",
    "    \n",
    "    base_auxiliar = spark.createDataFrame(pd.read_csv(filename,sep = ';',encoding = 'utf-8').astype(str)).dropDuplicates()\n",
    "    \n",
    "    return base_auxiliar"
   ]
  },
  {
   "cell_type": "markdown",
   "id": "3bb16eb3-b1c1-471c-bf55-d17075539709",
   "metadata": {},
   "source": [
    "Esta função cria tabelas sandbox em um Bucket do S3 para auxiliares no processamento de grandes massas de dados. Se não houver um schema para seu modelo pode-se criar um dentro do Jupyterlab através do código:\n",
    "\n",
    "```python\n",
    "spark.sql('''\n",
    "create database sandbox_{nome do seu projeto}\n",
    "location 's3://{bucket do seu projeto, normalmente será: dock-datalake-dev}/{diretório/path de onde os dados serão disponibilizados}/'\n",
    "''')\n",
    "```\n",
    "\n",
    "Exemplo de utilização do código:\n",
    "\n",
    "```python\n",
    "spark.sql('''\n",
    "create database sandbox_conta_remunerada\n",
    "location 's3://dock-datalake-dev/home/regulatory/conta_remunerada/'\n",
    "''')\n",
    "```"
   ]
  },
  {
   "cell_type": "code",
   "execution_count": 4,
   "id": "4af121e1-3cdc-41d1-bdbb-d4abf3a8abaa",
   "metadata": {},
   "outputs": [
    {
     "data": {
      "application/vnd.jupyter.widget-view+json": {
       "model_id": "",
       "version_major": 2,
       "version_minor": 0
      },
      "text/plain": [
       "FloatProgress(value=0.0, bar_style='info', description='Progress:', layout=Layout(height='25px', width='50%'),…"
      ]
     },
     "metadata": {},
     "output_type": "display_data"
    }
   ],
   "source": [
    "def s3_custom_persistence(df, database, table):\n",
    "    \n",
    "    (df.write\n",
    "     .mode('overwrite')\n",
    "     .format('parquet')\n",
    "     .saveAsTable(f'{database}.{table}', path = f's3://[seu caminho do S3 aqui]/{database}/{table}')\n",
    "    )\n",
    "    print(f'{table} salvo no s3.')\n",
    "    return spark.table(f'{database}.{table}')"
   ]
  },
  {
   "cell_type": "markdown",
   "id": "17a4265e-9df7-401d-a5da-cd9030288492",
   "metadata": {},
   "source": [
    "Esta função cria os arquivos .csv no Bucket fazendo uma repartição pela variável npart."
   ]
  },
  {
   "cell_type": "code",
   "execution_count": 5,
   "id": "c3971281-bb7a-4093-9e30-e9c66e693286",
   "metadata": {},
   "outputs": [
    {
     "data": {
      "application/vnd.jupyter.widget-view+json": {
       "model_id": "",
       "version_major": 2,
       "version_minor": 0
      },
      "text/plain": [
       "FloatProgress(value=0.0, bar_style='info', description='Progress:', layout=Layout(height='25px', width='50%'),…"
      ]
     },
     "metadata": {},
     "output_type": "display_data"
    }
   ],
   "source": [
    "def s3_arquivos_csv(npart, df, bucket, diretorio):\n",
    "    \n",
    "    df.repartition(npart).write.mode('overwrite').csv(f's3://{bucket}/{diretorio}',header='True',sep = ';',encoding = 'ISO-8859-1')"
   ]
  },
  {
   "cell_type": "markdown",
   "id": "40681c7b-11a0-4edb-abd3-74fbf5be1b27",
   "metadata": {},
   "source": [
    "Esta função renomeia os arquivos .csv extraíndo a parte (0000) gerada ao criar os arquivos .csv para identificação da ordem dos arquivos."
   ]
  },
  {
   "cell_type": "code",
   "execution_count": 6,
   "id": "c7e32092-46a2-44c3-8300-0c6cee8bcf82",
   "metadata": {},
   "outputs": [
    {
     "data": {
      "application/vnd.jupyter.widget-view+json": {
       "model_id": "",
       "version_major": 2,
       "version_minor": 0
      },
      "text/plain": [
       "FloatProgress(value=0.0, bar_style='info', description='Progress:', layout=Layout(height='25px', width='50%'),…"
      ]
     },
     "metadata": {},
     "output_type": "display_data"
    }
   ],
   "source": [
    "def s3_rename_files(bucket, diretorio, filename, data_arquivo, key_issuer, decendio_filename):\n",
    "    \n",
    "    s3_client = boto3.client(\"s3\")\n",
    "    response = s3_client.list_objects_v2(Bucket=bucket,Prefix=f'{diretorio}')\n",
    "    files = response.get(\"Contents\")\n",
    "    \n",
    "    for file in files:\n",
    "        if file.get('Size') > 0:\n",
    "            if file[\"Key\"].startswith(f'{diretorio}') and file[\"Key\"].endswith(('.csv', '.xlsx')):\n",
    "                \n",
    "                part = file.get('Key').split(f'{diretorio}/')[1].split('-')[1]\n",
    "            \n",
    "                old_key = file.get('Key')\n",
    "                issuer_id = key_issuer.split('_')[0]\n",
    "                issuer_name = key_issuer.split('_')[1]\n",
    "                new_key = f'{diretorio}/ACCOUNTING_IR_REMUNERATION_{part}_{filename}_{decendio_filename}_{issuer_id}_{issuer_name}_{data_arquivo}.csv'\n",
    "    \n",
    "                s3_client.copy_object(Bucket=bucket, CopySource=f\"{bucket}/{old_key}\", Key=new_key)\n",
    "                s3_client.delete_object(Bucket=bucket, Key=old_key)"
   ]
  },
  {
   "cell_type": "markdown",
   "id": "5ee14bfe-e9b2-49d9-bb17-81ae15f759c7",
   "metadata": {},
   "source": [
    "Esta função cria um arquivo .zip com todos os arquivos de tamanho maior que 0 e deleta os arquivos .csv do Bucket, mantendo uma única cópia desses dados."
   ]
  },
  {
   "cell_type": "code",
   "execution_count": 7,
   "id": "717ad498-adb1-4814-aa73-133d2235fd7c",
   "metadata": {},
   "outputs": [
    {
     "data": {
      "application/vnd.jupyter.widget-view+json": {
       "model_id": "",
       "version_major": 2,
       "version_minor": 0
      },
      "text/plain": [
       "FloatProgress(value=0.0, bar_style='info', description='Progress:', layout=Layout(height='25px', width='50%'),…"
      ]
     },
     "metadata": {},
     "output_type": "display_data"
    }
   ],
   "source": [
    "def s3_arquivo_zip(bucket, diretorio, filename, data_arquivo, key_issuer, decendio_filename):\n",
    "    \n",
    "    s3_client = boto3.client(\"s3\")\n",
    "    response = s3_client.list_objects_v2(Bucket=bucket,Prefix=f'{diretorio}')\n",
    "    files = response.get(\"Contents\")\n",
    "    zip_buffer = io.BytesIO()\n",
    "\n",
    "    with zipfile.ZipFile(zip_buffer, 'a', compression=zipfile.ZIP_DEFLATED, compresslevel = 9) as arquivoZip:\n",
    "        for file in files:\n",
    "            if file.get('Size') > 0:\n",
    "                if file[\"Key\"].startswith(f'{diretorio}') and file[\"Key\"].endswith(('.csv', '.xlsx')):\n",
    "\n",
    "                    csv_obj = s3_client.get_object(Bucket=bucket, Key=file.get('Key'))\n",
    "                    body = csv_obj['Body']\n",
    "                    infile_content = body.read().decode('ISO-8859-1')\n",
    "\n",
    "                    arquivo = file.get('Key').split(f'{diretorio}/')[1]\n",
    "\n",
    "                    arquivoZip.writestr(arquivo, infile_content)\n",
    "                    \n",
    "                    s3_client.delete_object(Bucket=bucket, Key=file.get('Key')) # Deleta o arquivo do Bucket depois de ter anexado ao zip\n",
    "                    \n",
    "    issuer_id = key_issuer.split('_')[0]\n",
    "    issuer_name = key_issuer.split('_')[1]\n",
    "\n",
    "    s3_client.put_object(Bucket=bucket, Key=f'{diretorio}/ACCOUNTING_IR_REMUNERATION_0000_{filename}{decendio_filename}_{issuer_id}_{issuer_name}_{data_arquivo}.zip', Body=zip_buffer.getvalue())"
   ]
  },
  {
   "cell_type": "markdown",
   "id": "5cb5c72f-19dc-4043-b8cd-c041518842b9",
   "metadata": {},
   "source": [
    "Esta função transfere dados entre Buckets usando o lambda."
   ]
  },
  {
   "cell_type": "code",
   "execution_count": 8,
   "id": "bb75a2d4-b5c8-4474-853b-a7d33714c01d",
   "metadata": {},
   "outputs": [
    {
     "data": {
      "application/vnd.jupyter.widget-view+json": {
       "model_id": "",
       "version_major": 2,
       "version_minor": 0
      },
      "text/plain": [
       "FloatProgress(value=0.0, bar_style='info', description='Progress:', layout=Layout(height='25px', width='50%'),…"
      ]
     },
     "metadata": {},
     "output_type": "display_data"
    }
   ],
   "source": [
    "def call_lambda(lambda_name: str, payload: dict):\n",
    "    client = boto3.client('lambda', 'us-east-1')\n",
    "    response = client.invoke(\n",
    "        FunctionName=lambda_name,\n",
    "        Payload=json.dumps(payload)\n",
    "    )"
   ]
  },
  {
   "cell_type": "markdown",
   "id": "620e5fe9-7c23-4faa-81d7-c7df7caf1e5a",
   "metadata": {},
   "source": [
    "# Variáveis"
   ]
  },
  {
   "cell_type": "markdown",
   "id": "adc0165e-5cc4-428d-9dc7-2a3652bf7fcb",
   "metadata": {},
   "source": [
    "## Variáveis constantes"
   ]
  },
  {
   "cell_type": "code",
   "execution_count": 9,
   "id": "ed381be0-41f8-4675-b71b-72d532b3de5c",
   "metadata": {},
   "outputs": [
    {
     "data": {
      "application/vnd.jupyter.widget-view+json": {
       "model_id": "",
       "version_major": 2,
       "version_minor": 0
      },
      "text/plain": [
       "FloatProgress(value=0.0, bar_style='info', description='Progress:', layout=Layout(height='25px', width='50%'),…"
      ]
     },
     "metadata": {},
     "output_type": "display_data"
    }
   ],
   "source": [
    "data_processamento = datetime.datetime.now(pytz.timezone(\"America/Sao_Paulo\")).strftime(\"%Y-%m-%d\") # data que será utilizada para o diretório do Caronte\n",
    "data_arquivo = datetime.datetime.now(pytz.timezone(\"America/Sao_Paulo\")).strftime(\"%Y%m%d_%H%M%S\") # data que será utilizada no nome do arquivo\n",
    "limite_linhas_excel = 1048575 # setando a quantidade máxima de linhas que uma aba do Excel aceita"
   ]
  },
  {
   "cell_type": "markdown",
   "id": "a7844524-da13-46cb-b837-65718b66abeb",
   "metadata": {},
   "source": [
    "### Criando uma variável para informar o nome do bucket e o caminho do diretório que será utilizado no processo"
   ]
  },
  {
   "cell_type": "code",
   "execution_count": 10,
   "id": "7a1650d3-523b-43cf-94d1-416a83bfb8b2",
   "metadata": {},
   "outputs": [
    {
     "data": {
      "application/vnd.jupyter.widget-view+json": {
       "model_id": "",
       "version_major": 2,
       "version_minor": 0
      },
      "text/plain": [
       "FloatProgress(value=0.0, bar_style='info', description='Progress:', layout=Layout(height='25px', width='50%'),…"
      ]
     },
     "metadata": {},
     "output_type": "display_data"
    }
   ],
   "source": [
    "nomeBucket = '' # bucket de destino para os dados gerados\n",
    "nomeBucket_arquivos = '' # bucket onde estão os arquivos .csv que irão gerar as tabelas auxiliares\n",
    "nomeDiretorioExtracao_diario = '' # parte padrão do path que irá armazenar os dados do relatório de conta remunerada por dia\n",
    "nomeDiretorioExtracao_sumarizado = '' # parte padrão do path que irá armazenar os dados do relatório de conta remunerada sumarizado\n",
    "nomeDiretorio_arquivos = ''  # path aonde estão disponibilizados os arquivos .csv que irão gerar as tabelas auxiliares"
   ]
  },
  {
   "cell_type": "markdown",
   "id": "60e74800-7326-4445-99d0-8f2cc8d8109d",
   "metadata": {
    "tags": []
   },
   "source": [
    "### Criando uma representação da interface de recursos do S3"
   ]
  },
  {
   "cell_type": "code",
   "execution_count": 11,
   "id": "3c479daf-53c6-46d7-aa7f-7b1297fa93e8",
   "metadata": {},
   "outputs": [
    {
     "data": {
      "application/vnd.jupyter.widget-view+json": {
       "model_id": "",
       "version_major": 2,
       "version_minor": 0
      },
      "text/plain": [
       "FloatProgress(value=0.0, bar_style='info', description='Progress:', layout=Layout(height='25px', width='50%'),…"
      ]
     },
     "metadata": {},
     "output_type": "display_data"
    }
   ],
   "source": [
    "s3_resource = boto3.resource('s3')\n",
    "bucket = s3_resource.Bucket(nomeBucket)"
   ]
  },
  {
   "cell_type": "markdown",
   "id": "65e936a8-6d65-4bf1-b234-e2712c5219cf",
   "metadata": {},
   "source": [
    "### Criando variáveis de nome dos arquivos"
   ]
  },
  {
   "cell_type": "code",
   "execution_count": 12,
   "id": "373c19b9-6afd-4e62-bf3d-12f7684793df",
   "metadata": {},
   "outputs": [
    {
     "data": {
      "application/vnd.jupyter.widget-view+json": {
       "model_id": "",
       "version_major": 2,
       "version_minor": 0
      },
      "text/plain": [
       "FloatProgress(value=0.0, bar_style='info', description='Progress:', layout=Layout(height='25px', width='50%'),…"
      ]
     },
     "metadata": {},
     "output_type": "display_data"
    }
   ],
   "source": [
    "filename_diario = f'REMUNERATIONPERDAY' # parte padrão do nome do arquivo que irá conter os dados do relatório de conta remunerada por dia\n",
    "filename_sumarizado = f'REMUNERATION' # parte padrão do nome do arquivo que irá conter os dados do relatório de conta remunerada sumarizado"
   ]
  },
  {
   "cell_type": "markdown",
   "id": "e9f3b004-a5ba-4e6a-aa39-31767f233da7",
   "metadata": {},
   "source": [
    "# Atualização de tabelas auxiliares"
   ]
  },
  {
   "cell_type": "code",
   "execution_count": 13,
   "id": "3699049b-c958-4176-9ebc-0161bed81914",
   "metadata": {},
   "outputs": [
    {
     "data": {
      "application/vnd.jupyter.widget-view+json": {
       "model_id": "",
       "version_major": 2,
       "version_minor": 0
      },
      "text/plain": [
       "FloatProgress(value=0.0, bar_style='info', description='Progress:', layout=Layout(height='25px', width='50%'),…"
      ]
     },
     "metadata": {},
     "output_type": "display_data"
    },
    {
     "name": "stdout",
     "output_type": "stream",
     "text": [
      "stg_decendios salvo no s3."
     ]
    }
   ],
   "source": [
    "conta_remunerada_decendios = atualiza_bases_auxiliares(nomeBucket_arquivos,nomeDiretorio_arquivos,'conta_remunerada_decendios.csv') # roda a função que gera o dataframe para a tabela auxiliar\n",
    "df_decendios = s3_custom_persistence(conta_remunerada_decendios,'sandbox_conta_remunerada','stg_decendios') # roda a função que atualiza a tabela auxiliar no S3\n",
    "\n",
    "os.remove('conta_remunerada_decendios.csv') # Removendo os arquivos CSVs do diretório local"
   ]
  },
  {
   "cell_type": "code",
   "execution_count": 14,
   "id": "c17150bc-6803-4f7c-9741-b7d2fdfbaa5c",
   "metadata": {},
   "outputs": [
    {
     "data": {
      "application/vnd.jupyter.widget-view+json": {
       "model_id": "",
       "version_major": 2,
       "version_minor": 0
      },
      "text/plain": [
       "FloatProgress(value=0.0, bar_style='info', description='Progress:', layout=Layout(height='25px', width='50%'),…"
      ]
     },
     "metadata": {},
     "output_type": "display_data"
    },
    {
     "name": "stdout",
     "output_type": "stream",
     "text": [
      "stg_issuers salvo no s3."
     ]
    }
   ],
   "source": [
    "conta_remunerada_issuers = atualiza_bases_auxiliares(nomeBucket_arquivos,nomeDiretorio_arquivos,'conta_remunerada_issuers.csv') # roda a função que gera o dataframe para a tabela auxiliar\n",
    "df_issuers = s3_custom_persistence(conta_remunerada_issuers,'sandbox_conta_remunerada','stg_issuers') # roda a função que atualiza a tabela auxiliar no S3\n",
    "\n",
    "os.remove('conta_remunerada_issuers.csv') # Removendo os arquivos CSVs do diretório local"
   ]
  },
  {
   "cell_type": "markdown",
   "id": "63ce07d9-a2a0-4d12-a235-9bab6cfcfdd6",
   "metadata": {},
   "source": [
    "# Definição de variáveis que se alteram ao longo do tempo"
   ]
  },
  {
   "cell_type": "code",
   "execution_count": 15,
   "id": "d16084e5-ef37-4a69-a481-a7436d0f4c3b",
   "metadata": {},
   "outputs": [
    {
     "data": {
      "application/vnd.jupyter.widget-view+json": {
       "model_id": "",
       "version_major": 2,
       "version_minor": 0
      },
      "text/plain": [
       "FloatProgress(value=0.0, bar_style='info', description='Progress:', layout=Layout(height='25px', width='50%'),…"
      ]
     },
     "metadata": {},
     "output_type": "display_data"
    }
   ],
   "source": [
    "# data_execucao = '2022-09-30'\n",
    "data_execucao = datetime.datetime.now(pytz.timezone(\"America/Sao_Paulo\")).strftime(\"%Y-%m-%d\")"
   ]
  },
  {
   "cell_type": "markdown",
   "id": "cc9af2ce-3ec9-4cbb-9e5e-66153e4b585e",
   "metadata": {},
   "source": [
    "Definindo as variáveis do decêndio a ser processado com base na data do processamento e a tabela auxiliar."
   ]
  },
  {
   "cell_type": "code",
   "execution_count": 16,
   "id": "072eff38-b14b-4e08-8af9-8ee52c28b996",
   "metadata": {},
   "outputs": [
    {
     "data": {
      "application/vnd.jupyter.widget-view+json": {
       "model_id": "",
       "version_major": 2,
       "version_minor": 0
      },
      "text/plain": [
       "FloatProgress(value=0.0, bar_style='info', description='Progress:', layout=Layout(height='25px', width='50%'),…"
      ]
     },
     "metadata": {},
     "output_type": "display_data"
    }
   ],
   "source": [
    "decendio = df_decendios.filter(f\"extract(day from cast('{data_execucao}' as date)) >= start_day and extract(day from cast('{data_execucao}' as date)) <= end_day\").first()['decendio']"
   ]
  },
  {
   "cell_type": "code",
   "execution_count": 17,
   "id": "c1ceb751-1ad7-4c35-8f7c-08a2208b62ae",
   "metadata": {},
   "outputs": [
    {
     "data": {
      "application/vnd.jupyter.widget-view+json": {
       "model_id": "",
       "version_major": 2,
       "version_minor": 0
      },
      "text/plain": [
       "FloatProgress(value=0.0, bar_style='info', description='Progress:', layout=Layout(height='25px', width='50%'),…"
      ]
     },
     "metadata": {},
     "output_type": "display_data"
    }
   ],
   "source": [
    "decendio_filename = df_decendios.filter(f\"extract(day from cast('{data_execucao}' as date)) >= start_day and extract(day from cast('{data_execucao}' as date)) <= end_day\").first()['filename']"
   ]
  },
  {
   "cell_type": "markdown",
   "id": "1c3d5f13-7335-4134-b79d-2e1ea7506382",
   "metadata": {},
   "source": [
    "Definindo a variável do ano_mês a ser processado com base na data do processamento e a tabela auxiliar."
   ]
  },
  {
   "cell_type": "code",
   "execution_count": 18,
   "id": "d0790d4c-3ee0-4d7e-87ad-06d71812e35b",
   "metadata": {},
   "outputs": [
    {
     "data": {
      "application/vnd.jupyter.widget-view+json": {
       "model_id": "",
       "version_major": 2,
       "version_minor": 0
      },
      "text/plain": [
       "FloatProgress(value=0.0, bar_style='info', description='Progress:', layout=Layout(height='25px', width='50%'),…"
      ]
     },
     "metadata": {},
     "output_type": "display_data"
    }
   ],
   "source": [
    "date_diff = (\n",
    "    df_decendios\n",
    "    .filter('extract(day from current_date) >= start_day and extract(day from current_date) <= end_day')\n",
    "    .withColumn('date_diff',col('date_diff').cast('int'))\n",
    "    .first()['date_diff']\n",
    ")"
   ]
  },
  {
   "cell_type": "code",
   "execution_count": 19,
   "id": "0676bcba-1136-4132-97e6-5d67ba649a79",
   "metadata": {},
   "outputs": [
    {
     "data": {
      "application/vnd.jupyter.widget-view+json": {
       "model_id": "",
       "version_major": 2,
       "version_minor": 0
      },
      "text/plain": [
       "FloatProgress(value=0.0, bar_style='info', description='Progress:', layout=Layout(height='25px', width='50%'),…"
      ]
     },
     "metadata": {},
     "output_type": "display_data"
    }
   ],
   "source": [
    "ano_mes = (datetime.datetime.now(pytz.timezone(\"America/Sao_Paulo\")).replace(day=1) + relativedelta(months=date_diff)).strftime(\"%Y%m\")"
   ]
  },
  {
   "cell_type": "markdown",
   "id": "46373e4c-019c-4e11-95ab-a9203776e466",
   "metadata": {},
   "source": [
    "Definindo a variável de issuers a serem processados com base na data do processamento e a tabela auxiliar."
   ]
  },
  {
   "cell_type": "code",
   "execution_count": 20,
   "id": "b006d5ba-60aa-4cd5-bb13-a8876666c06b",
   "metadata": {},
   "outputs": [
    {
     "data": {
      "application/vnd.jupyter.widget-view+json": {
       "model_id": "",
       "version_major": 2,
       "version_minor": 0
      },
      "text/plain": [
       "FloatProgress(value=0.0, bar_style='info', description='Progress:', layout=Layout(height='25px', width='50%'),…"
      ]
     },
     "metadata": {},
     "output_type": "display_data"
    }
   ],
   "source": [
    "aux_issuers = df_issuers.select(concat_ws(\",\", collect_set(col('filename'))).alias(\"filename\")).withColumn('filename_array',split(col('filename'),','))"
   ]
  },
  {
   "cell_type": "code",
   "execution_count": 21,
   "id": "2aeffc16-df6f-4b02-8db7-55bd5ad83c93",
   "metadata": {},
   "outputs": [
    {
     "data": {
      "application/vnd.jupyter.widget-view+json": {
       "model_id": "",
       "version_major": 2,
       "version_minor": 0
      },
      "text/plain": [
       "FloatProgress(value=0.0, bar_style='info', description='Progress:', layout=Layout(height='25px', width='50%'),…"
      ]
     },
     "metadata": {},
     "output_type": "display_data"
    }
   ],
   "source": [
    "issuers = aux_issuers.first()['filename']"
   ]
  },
  {
   "cell_type": "code",
   "execution_count": 22,
   "id": "45726f6a-e26b-42e1-baae-e7976d195539",
   "metadata": {},
   "outputs": [
    {
     "data": {
      "application/vnd.jupyter.widget-view+json": {
       "model_id": "",
       "version_major": 2,
       "version_minor": 0
      },
      "text/plain": [
       "FloatProgress(value=0.0, bar_style='info', description='Progress:', layout=Layout(height='25px', width='50%'),…"
      ]
     },
     "metadata": {},
     "output_type": "display_data"
    }
   ],
   "source": [
    "issuer_array = aux_issuers.first()['filename_array']"
   ]
  },
  {
   "cell_type": "markdown",
   "id": "0fbe51bb-9f16-40d6-8115-4f23a68b674b",
   "metadata": {},
   "source": [
    "# Criação de tabelas sandbox para extração de dados"
   ]
  },
  {
   "cell_type": "markdown",
   "id": "1b75e07a-4f0b-486b-ac45-07310a626e9f",
   "metadata": {},
   "source": [
    "## Relatório Diário"
   ]
  },
  {
   "cell_type": "markdown",
   "id": "02807504-97c9-4d86-9695-4b6220537255",
   "metadata": {},
   "source": [
    "### Emissores"
   ]
  },
  {
   "cell_type": "markdown",
   "id": "0b211724-2d52-4c05-833c-bc4195d48ad3",
   "metadata": {},
   "source": [
    "Cria a sandbox com dados dos emissores que precisarão ser processados para o relatório de contas remuneradas por dia."
   ]
  },
  {
   "cell_type": "code",
   "execution_count": 23,
   "id": "66be5e7c-abf5-4983-9b28-3a0a60626c79",
   "metadata": {},
   "outputs": [
    {
     "data": {
      "application/vnd.jupyter.widget-view+json": {
       "model_id": "",
       "version_major": 2,
       "version_minor": 0
      },
      "text/plain": [
       "FloatProgress(value=0.0, bar_style='info', description='Progress:', layout=Layout(height='25px', width='50%'),…"
      ]
     },
     "metadata": {},
     "output_type": "display_data"
    }
   ],
   "source": [
    "query_diario = f'''\n",
    "select\n",
    "    base.issuer_id as id_emissor,\n",
    "    base.issuer_name as emissor,\n",
    "    base.account_id as id_conta,\n",
    "    base.bearer_document as cpf_cnpj,\n",
    "    base.bearer_name as nome,\n",
    "    base.yearmonth as anomes,\n",
    "    date_format(base.transaction_date, 'dd/MM/yyyy') as data_lancamento,\n",
    "    cast(cast(base.quantity_transactions as integer) as string) as quantidade_transacoes,\n",
    "    cast(cast(base.amount_transactions as decimal(38,2)) as string) as valor_transacoes,\n",
    "    cast(cast(base.retention_basis as decimal(38,2)) as string)as base_retencao,\n",
    "    cast(cast(base.due_income_tax as decimal(38,2)) as string) as ir_devido\n",
    "from\n",
    "    app_regulatory.daily_bearing_account base\n",
    "inner join\n",
    "    sandbox_conta_remunerada.stg_issuers issuers\n",
    "    on cast(base.issuer_id as int) = cast(issuers.issuer_id as int)\n",
    "        and issuers.filename <> '000_DOCK'\n",
    "where\n",
    "    1=1\n",
    "    and base.yearmonth = '{ano_mes}'\n",
    "    and base.decendio = '{decendio}'\n",
    "order by\n",
    "    base.bearer_document,\n",
    "    base.bearer_name,\n",
    "    base.transaction_date,\n",
    "    base.decendio\n",
    "'''"
   ]
  },
  {
   "cell_type": "code",
   "execution_count": 24,
   "id": "2487e3a1-a6d9-4099-86d7-bfc2c85fc075",
   "metadata": {},
   "outputs": [
    {
     "data": {
      "application/vnd.jupyter.widget-view+json": {
       "model_id": "",
       "version_major": 2,
       "version_minor": 0
      },
      "text/plain": [
       "FloatProgress(value=0.0, bar_style='info', description='Progress:', layout=Layout(height='25px', width='50%'),…"
      ]
     },
     "metadata": {},
     "output_type": "display_data"
    }
   ],
   "source": [
    "df_diario = (spark\n",
    "             .sql(query_diario)\n",
    "             .withColumn('quantidade_transacoes',regexp_replace(col('quantidade_transacoes'),\"\\.\",\"\"))\n",
    "             .withColumn('valor_transacoes',regexp_replace(col('valor_transacoes'),\"\\.\",\"\\,\"))\n",
    "             .withColumn('base_retencao',regexp_replace(col('base_retencao'),\"\\.\",\"\\,\"))\n",
    "             .withColumn('ir_devido',regexp_replace(col('ir_devido'),\"\\.\",\"\\,\"))\n",
    "            )"
   ]
  },
  {
   "cell_type": "code",
   "execution_count": 25,
   "id": "ee6c321d-4e05-4a82-91f7-ded256790450",
   "metadata": {},
   "outputs": [
    {
     "data": {
      "application/vnd.jupyter.widget-view+json": {
       "model_id": "",
       "version_major": 2,
       "version_minor": 0
      },
      "text/plain": [
       "FloatProgress(value=0.0, bar_style='info', description='Progress:', layout=Layout(height='25px', width='50%'),…"
      ]
     },
     "metadata": {},
     "output_type": "display_data"
    },
    {
     "name": "stdout",
     "output_type": "stream",
     "text": [
      "stg_issuer_daily_bearing_account salvo no s3."
     ]
    }
   ],
   "source": [
    "df_diario_persisted = s3_custom_persistence(\n",
    "    df_diario\n",
    "    ,'sandbox_conta_remunerada'\n",
    "    ,f'stg_issuer_daily_bearing_account'\n",
    ")"
   ]
  },
  {
   "cell_type": "markdown",
   "id": "cc07b1d5-9fc8-4b0d-9cbc-9f3d49a6bc0f",
   "metadata": {},
   "source": [
    "### Dock"
   ]
  },
  {
   "cell_type": "markdown",
   "id": "2204b463-8f57-4415-95ba-5a2b8660314f",
   "metadata": {},
   "source": [
    "Cria a sandbox com dados da Dock que precisarão ser processados para o relatório de contas remuneradas por dia."
   ]
  },
  {
   "cell_type": "code",
   "execution_count": 26,
   "id": "8cdafdec-c54b-493d-aad3-feb914bc52df",
   "metadata": {},
   "outputs": [
    {
     "data": {
      "application/vnd.jupyter.widget-view+json": {
       "model_id": "",
       "version_major": 2,
       "version_minor": 0
      },
      "text/plain": [
       "FloatProgress(value=0.0, bar_style='info', description='Progress:', layout=Layout(height='25px', width='50%'),…"
      ]
     },
     "metadata": {},
     "output_type": "display_data"
    }
   ],
   "source": [
    "query_diario_dock = f'''\n",
    "select\n",
    "    base.issuer_id as id_emissor,\n",
    "    base.issuer_name as emissor,\n",
    "    base.account_id as id_conta,\n",
    "    base.bearer_document as cpf_cnpj,\n",
    "    base.bearer_name as nome,\n",
    "    base.yearmonth as anomes,\n",
    "    date_format(base.transaction_date, 'dd/MM/yyyy') as data_lancamento,\n",
    "    cast(cast(base.quantity_transactions as integer) as string) as quantidade_transacoes,\n",
    "    cast(cast(base.amount_transactions as decimal(38,2)) as string) as valor_transacoes,\n",
    "    cast(cast(base.retention_basis as decimal(38,2)) as string)as base_retencao,\n",
    "    cast(cast(base.due_income_tax as decimal(38,2)) as string) as ir_devido\n",
    "from\n",
    "    app_regulatory.daily_bearing_account base\n",
    "inner join\n",
    "    sandbox_conta_remunerada.stg_issuers issuers\n",
    "    on cast(base.issuer_id as int) = cast(issuers.issuer_id as int)\n",
    "        and issuers.filename = '000_DOCK'\n",
    "where\n",
    "    1=1\n",
    "    and yearmonth = '{ano_mes}'\n",
    "    and decendio = '{decendio}'\n",
    "order by\n",
    "    base.bearer_document,\n",
    "    base.bearer_name,\n",
    "    base.transaction_date,\n",
    "    base.decendio\n",
    "'''"
   ]
  },
  {
   "cell_type": "code",
   "execution_count": 27,
   "id": "afc0499b-d8d1-4d2e-bfee-6e9518de28f6",
   "metadata": {},
   "outputs": [
    {
     "data": {
      "application/vnd.jupyter.widget-view+json": {
       "model_id": "",
       "version_major": 2,
       "version_minor": 0
      },
      "text/plain": [
       "FloatProgress(value=0.0, bar_style='info', description='Progress:', layout=Layout(height='25px', width='50%'),…"
      ]
     },
     "metadata": {},
     "output_type": "display_data"
    }
   ],
   "source": [
    "df_diario_dock = (spark\n",
    "                  .sql(query_diario_dock)\n",
    "                  .withColumn('quantidade_transacoes',regexp_replace(col('quantidade_transacoes'),\"\\.\",\"\"))\n",
    "                  .withColumn('valor_transacoes',regexp_replace(col('valor_transacoes'),\"\\.\",\"\\,\"))\n",
    "                  .withColumn('base_retencao',regexp_replace(col('base_retencao'),\"\\.\",\"\\,\"))\n",
    "                  .withColumn('ir_devido',regexp_replace(col('ir_devido'),\"\\.\",\"\\,\"))\n",
    "                 )"
   ]
  },
  {
   "cell_type": "code",
   "execution_count": 28,
   "id": "d8060ad8-ec3d-475c-8f4a-45fa930367a9",
   "metadata": {},
   "outputs": [
    {
     "data": {
      "application/vnd.jupyter.widget-view+json": {
       "model_id": "",
       "version_major": 2,
       "version_minor": 0
      },
      "text/plain": [
       "FloatProgress(value=0.0, bar_style='info', description='Progress:', layout=Layout(height='25px', width='50%'),…"
      ]
     },
     "metadata": {},
     "output_type": "display_data"
    },
    {
     "name": "stdout",
     "output_type": "stream",
     "text": [
      "stg_dock_daily_bearing_account salvo no s3."
     ]
    }
   ],
   "source": [
    "df_diario_dock_persisted = s3_custom_persistence(\n",
    "    df_diario_dock\n",
    "    ,'sandbox_conta_remunerada'\n",
    "    ,'stg_dock_daily_bearing_account'\n",
    ")"
   ]
  },
  {
   "cell_type": "markdown",
   "id": "3c0aa5de-05d1-498e-a1e7-5610ce359152",
   "metadata": {},
   "source": [
    "## Relatório Sumarizado"
   ]
  },
  {
   "cell_type": "markdown",
   "id": "21d3aa1a-44aa-4705-8c57-46d3d927c566",
   "metadata": {},
   "source": [
    "### Emissores"
   ]
  },
  {
   "cell_type": "markdown",
   "id": "8a4c53fc-5ad9-44ae-be66-07dc3316bc7e",
   "metadata": {},
   "source": [
    "Cria a sandbox com dados dos emissores que precisarão ser processados para o relatório de contas remuneradas sumarizado."
   ]
  },
  {
   "cell_type": "code",
   "execution_count": 29,
   "id": "df8ffb3d-57b0-492b-9025-bd097eec1f0e",
   "metadata": {},
   "outputs": [
    {
     "data": {
      "application/vnd.jupyter.widget-view+json": {
       "model_id": "",
       "version_major": 2,
       "version_minor": 0
      },
      "text/plain": [
       "FloatProgress(value=0.0, bar_style='info', description='Progress:', layout=Layout(height='25px', width='50%'),…"
      ]
     },
     "metadata": {},
     "output_type": "display_data"
    }
   ],
   "source": [
    "query_sumarizado = f'''\n",
    "select\n",
    "    base.issuer_id as id_emissor,\n",
    "    base.issuer_name as emissor,\n",
    "    base.account_id as id_conta,\n",
    "    base.bearer_document as cpf_cnpj,\n",
    "    base.bearer_name as nome,\n",
    "    base.yearmonth as anomes,\n",
    "    base.decendio,\n",
    "    cast(cast(base.quantity_transactions as integer) as string) as quantidade_transacoes,\n",
    "    cast(cast(base.amount_transactions as decimal(38,2)) as string) as valor_transacoes,\n",
    "    cast(cast(base.retention_basis as decimal(38,2)) as string) as base_retencao,\n",
    "    cast(cast(base.due_income_tax as decimal(38,2)) as string) as ir_devido\n",
    "from\n",
    "    app_regulatory.summarized_bearing_account base\n",
    "inner join\n",
    "    sandbox_conta_remunerada.stg_issuers issuers\n",
    "    on cast(base.issuer_id as int) = cast(issuers.issuer_id as int)\n",
    "        and issuers.filename <> '000_DOCK'\n",
    "where\n",
    "    1=1\n",
    "    and base.yearmonth = '{ano_mes}'\n",
    "    and base.decendio = '{decendio}'\n",
    "order by\n",
    "    base.bearer_document,\n",
    "    base.bearer_name,\n",
    "    base.decendio\n",
    "'''"
   ]
  },
  {
   "cell_type": "code",
   "execution_count": 30,
   "id": "f537ec66-f3d9-492d-a5a5-97917e268981",
   "metadata": {},
   "outputs": [
    {
     "data": {
      "application/vnd.jupyter.widget-view+json": {
       "model_id": "",
       "version_major": 2,
       "version_minor": 0
      },
      "text/plain": [
       "FloatProgress(value=0.0, bar_style='info', description='Progress:', layout=Layout(height='25px', width='50%'),…"
      ]
     },
     "metadata": {},
     "output_type": "display_data"
    }
   ],
   "source": [
    "df_sumarizado = (spark\n",
    "                 .sql(query_sumarizado)\n",
    "                 .withColumn('quantidade_transacoes',regexp_replace(col('quantidade_transacoes'),\"\\.\",\"\"))\n",
    "                 .withColumn('valor_transacoes',regexp_replace(col('valor_transacoes'),\"\\.\",\"\\,\"))\n",
    "                 .withColumn('base_retencao',regexp_replace(col('base_retencao'),\"\\.\",\"\\,\"))\n",
    "                 .withColumn('ir_devido',regexp_replace(col('ir_devido'),\"\\.\",\"\\,\"))\n",
    "                )"
   ]
  },
  {
   "cell_type": "code",
   "execution_count": 31,
   "id": "2e387e32-3870-43ba-b151-67366f232ba8",
   "metadata": {},
   "outputs": [
    {
     "data": {
      "application/vnd.jupyter.widget-view+json": {
       "model_id": "",
       "version_major": 2,
       "version_minor": 0
      },
      "text/plain": [
       "FloatProgress(value=0.0, bar_style='info', description='Progress:', layout=Layout(height='25px', width='50%'),…"
      ]
     },
     "metadata": {},
     "output_type": "display_data"
    },
    {
     "name": "stdout",
     "output_type": "stream",
     "text": [
      "stg_issuer_summarized_bearing_account salvo no s3."
     ]
    }
   ],
   "source": [
    "df_sumarizado_persisted = s3_custom_persistence(\n",
    "    df_sumarizado\n",
    "    ,'sandbox_conta_remunerada'\n",
    "    ,f'stg_issuer_summarized_bearing_account'\n",
    ")"
   ]
  },
  {
   "cell_type": "markdown",
   "id": "b38ccbad-248d-4446-b8d9-85978f5c1cea",
   "metadata": {},
   "source": [
    "### Dock"
   ]
  },
  {
   "cell_type": "markdown",
   "id": "63265e38-6faf-4e83-9554-391ed1a318b1",
   "metadata": {},
   "source": [
    "Cria a sandbox com dados da Dock que precisarão ser processados para o relatório de contas remuneradas sumarizado."
   ]
  },
  {
   "cell_type": "code",
   "execution_count": 32,
   "id": "e49cefcc-9ae7-44da-9650-774ad78f1643",
   "metadata": {},
   "outputs": [
    {
     "data": {
      "application/vnd.jupyter.widget-view+json": {
       "model_id": "",
       "version_major": 2,
       "version_minor": 0
      },
      "text/plain": [
       "FloatProgress(value=0.0, bar_style='info', description='Progress:', layout=Layout(height='25px', width='50%'),…"
      ]
     },
     "metadata": {},
     "output_type": "display_data"
    }
   ],
   "source": [
    "query_sumarizado_dock = f'''\n",
    "select\n",
    "    base.issuer_id as id_emissor,\n",
    "    base.issuer_name as emissor,\n",
    "    base.account_id as id_conta,\n",
    "    base.bearer_document as cpf_cnpj,\n",
    "    base.bearer_name as nome,\n",
    "    base.yearmonth as anomes,\n",
    "    base.decendio,\n",
    "    cast(cast(base.quantity_transactions as integer) as string) as quantidade_transacoes,\n",
    "    cast(cast(base.amount_transactions as decimal(38,2)) as string) as valor_transacoes,\n",
    "    cast(cast(base.retention_basis as decimal(38,2)) as string) as base_retencao,\n",
    "    cast(cast(base.due_income_tax as decimal(38,2)) as string) as ir_devido\n",
    "from\n",
    "    app_regulatory.summarized_bearing_account base\n",
    "inner join\n",
    "    sandbox_conta_remunerada.stg_issuers issuers\n",
    "    on cast(base.issuer_id as int) = cast(issuers.issuer_id as int)\n",
    "        and issuers.filename = '000_DOCK'\n",
    "where\n",
    "    1=1\n",
    "    and yearmonth = '{ano_mes}'\n",
    "    and decendio = '{decendio}'\n",
    "order by\n",
    "    base.bearer_document,\n",
    "    base.bearer_name,\n",
    "    base.decendio\n",
    "'''"
   ]
  },
  {
   "cell_type": "code",
   "execution_count": 33,
   "id": "c5e3b82c-c46e-4067-9eac-ba027ec5f5a8",
   "metadata": {},
   "outputs": [
    {
     "data": {
      "application/vnd.jupyter.widget-view+json": {
       "model_id": "",
       "version_major": 2,
       "version_minor": 0
      },
      "text/plain": [
       "FloatProgress(value=0.0, bar_style='info', description='Progress:', layout=Layout(height='25px', width='50%'),…"
      ]
     },
     "metadata": {},
     "output_type": "display_data"
    }
   ],
   "source": [
    "df_sumarizado_dock = (spark\n",
    "                      .sql(query_sumarizado_dock)\n",
    "                      .withColumn('quantidade_transacoes',regexp_replace(col('quantidade_transacoes'),\"\\.\",\"\"))\n",
    "                      .withColumn('valor_transacoes',regexp_replace(col('valor_transacoes'),\"\\.\",\"\\,\"))\n",
    "                      .withColumn('base_retencao',regexp_replace(col('base_retencao'),\"\\.\",\"\\,\"))\n",
    "                      .withColumn('ir_devido',regexp_replace(col('ir_devido'),\"\\.\",\"\\,\"))\n",
    "                     )"
   ]
  },
  {
   "cell_type": "code",
   "execution_count": 34,
   "id": "57979458-7775-4e62-94e9-a7227073de49",
   "metadata": {},
   "outputs": [
    {
     "data": {
      "application/vnd.jupyter.widget-view+json": {
       "model_id": "",
       "version_major": 2,
       "version_minor": 0
      },
      "text/plain": [
       "FloatProgress(value=0.0, bar_style='info', description='Progress:', layout=Layout(height='25px', width='50%'),…"
      ]
     },
     "metadata": {},
     "output_type": "display_data"
    },
    {
     "name": "stdout",
     "output_type": "stream",
     "text": [
      "stg_dock_summarized_bearing_account salvo no s3."
     ]
    }
   ],
   "source": [
    "df_sumarizado_dock_persisted = s3_custom_persistence(\n",
    "    df_sumarizado_dock\n",
    "    ,'sandbox_conta_remunerada'\n",
    "    ,'stg_dock_summarized_bearing_account'\n",
    ")"
   ]
  },
  {
   "cell_type": "markdown",
   "id": "a9efffca-3ec3-486b-8b1a-8afd1be833db",
   "metadata": {},
   "source": [
    "# Extração dos dados"
   ]
  },
  {
   "cell_type": "markdown",
   "id": "f5084385-e7f9-42d6-85c5-2c9036b4e03b",
   "metadata": {},
   "source": [
    "## Criando arquivos csv dentro do Bucket"
   ]
  },
  {
   "cell_type": "markdown",
   "id": "bcf6082b-313a-4b6d-bdae-e219646cbb66",
   "metadata": {},
   "source": [
    "Percorre em loop todos os dados que precisam ser processados e gera os arquivos .csv no Bucket."
   ]
  },
  {
   "cell_type": "code",
   "execution_count": 35,
   "id": "41a1fd19-58a0-4dfc-bf36-a113020304b9",
   "metadata": {},
   "outputs": [
    {
     "data": {
      "application/vnd.jupyter.widget-view+json": {
       "model_id": "",
       "version_major": 2,
       "version_minor": 0
      },
      "text/plain": [
       "FloatProgress(value=0.0, bar_style='info', description='Progress:', layout=Layout(height='25px', width='50%'),…"
      ]
     },
     "metadata": {},
     "output_type": "display_data"
    },
    {
     "name": "stdout",
     "output_type": "stream",
     "text": [
      "Criados arquivos csv do relatório por dia do issuer 222_BRADESCO com 4 parte(s).\n",
      "Criados arquivos csv do relatório sumarizado do issuer 222_BRADESCO com 2 parte(s).\n",
      "Criados arquivos csv do relatório por dia do issuer 144_DOTZ com 1 parte(s).\n",
      "Criados arquivos csv do relatório sumarizado do issuer 144_DOTZ com 1 parte(s).\n",
      "Criados arquivos csv do relatório por dia do issuer 000_DOCK com 1 parte(s).\n",
      "Criados arquivos csv do relatório sumarizado do issuer 000_DOCK com 1 parte(s)."
     ]
    }
   ],
   "source": [
    "for i in issuer_array:\n",
    "    \n",
    "    issuer_id = i.split('_')[0]\n",
    "    key_issuer = i\n",
    "    \n",
    "    if i == '000_DOCK':\n",
    "        \n",
    "        df_relatorio_por_dia = df_diario_dock_persisted\n",
    "        df_relatorio_sumarizado = df_sumarizado_dock_persisted\n",
    "        \n",
    "    else:\n",
    "        \n",
    "        df_relatorio_por_dia = df_diario_persisted.filter(f\"cast(id_emissor as integer) = cast({issuer_id} as integer)\")\n",
    "        df_relatorio_sumarizado = df_sumarizado_persisted.filter(f\"cast(id_emissor as integer) = cast({issuer_id} as integer)\")\n",
    "        \n",
    "    npart_diario = math.ceil(df_relatorio_por_dia.count() / limite_linhas_excel) # number of partitions when storing in disk\n",
    "    diretorio_relatorio_por_dia = f'{nomeDiretorioExtracao_diario}/data_processamento={data_arquivo}/key_issuer={key_issuer}/anomes={ano_mes}/decendio={decendio}'\n",
    "    s3_arquivos_csv(npart_diario,df_relatorio_por_dia,nomeBucket,diretorio_relatorio_por_dia)\n",
    "\n",
    "    print(f\"Criados arquivos csv do relatório por dia do issuer {str(i)} com {str(npart_diario)} parte(s).\")\n",
    "\n",
    "    npart_sumarizado = math.ceil(df_relatorio_sumarizado.count() / limite_linhas_excel) # number of partitions when storing in disk\n",
    "    diretorio_sumarizado = f'{nomeDiretorioExtracao_sumarizado}/data_processamento={data_arquivo}/key_issuer={key_issuer}/anomes={ano_mes}/decendio={decendio}'\n",
    "    s3_arquivos_csv(npart_sumarizado,df_relatorio_sumarizado,nomeBucket,diretorio_sumarizado)\n",
    "\n",
    "    print(f\"Criados arquivos csv do relatório sumarizado do issuer {str(i)} com {str(npart_sumarizado)} parte(s).\")\n",
    "    "
   ]
  },
  {
   "cell_type": "markdown",
   "id": "c9cb9e70-7688-4dc6-a2dd-219b9b55eccb",
   "metadata": {},
   "source": [
    "## Renomeando arquivos csv"
   ]
  },
  {
   "cell_type": "markdown",
   "id": "7fec81d2-bf18-4ad0-a85f-a5c309d6b121",
   "metadata": {},
   "source": [
    "Percorre em loop todos os dados que precisam ser processados e renomeia os arquivos .csv no Bucket."
   ]
  },
  {
   "cell_type": "code",
   "execution_count": 36,
   "id": "a3260e42-e72c-4896-bde8-d48eb03910c2",
   "metadata": {},
   "outputs": [
    {
     "data": {
      "application/vnd.jupyter.widget-view+json": {
       "model_id": "",
       "version_major": 2,
       "version_minor": 0
      },
      "text/plain": [
       "FloatProgress(value=0.0, bar_style='info', description='Progress:', layout=Layout(height='25px', width='50%'),…"
      ]
     },
     "metadata": {},
     "output_type": "display_data"
    },
    {
     "name": "stdout",
     "output_type": "stream",
     "text": [
      "Renomeados arquivos csv do relatório por dia do issuer 222.\n",
      "Renomeados arquivos csv do relatório sumarizado do issuer 222.\n",
      "Renomeados arquivos csv do relatório por dia do issuer 144.\n",
      "Renomeados arquivos csv do relatório sumarizado do issuer 144.\n",
      "Renomeados arquivos csv do relatório por dia do issuer 000.\n",
      "Renomeados arquivos csv do relatório sumarizado do issuer 000."
     ]
    }
   ],
   "source": [
    "for i in issuer_array:\n",
    "    \n",
    "    issuer_id = i.split('_')[0]\n",
    "    key_issuer = i\n",
    "    \n",
    "    diretorio_relatorio_por_dia = f'{nomeDiretorioExtracao_diario}/data_processamento={data_arquivo}/key_issuer={key_issuer}/anomes={ano_mes}/decendio={decendio}'\n",
    "    s3_rename_files(nomeBucket, diretorio_relatorio_por_dia, filename_diario, data_arquivo, key_issuer, decendio_filename)\n",
    "    \n",
    "    print(f\"Renomeados arquivos csv do relatório por dia do issuer {str(issuer_id)}.\")\n",
    "    \n",
    "    diretorio_sumarizado = f'{nomeDiretorioExtracao_sumarizado}/data_processamento={data_arquivo}/key_issuer={key_issuer}/anomes={ano_mes}/decendio={decendio}'\n",
    "    s3_rename_files(nomeBucket, diretorio_sumarizado, filename_sumarizado, data_arquivo, key_issuer, decendio_filename)\n",
    "    \n",
    "    print(f\"Renomeados arquivos csv do relatório sumarizado do issuer {str(issuer_id)}.\")"
   ]
  },
  {
   "cell_type": "markdown",
   "id": "0f71c8cd-bb10-4c3e-ba2d-639816426d25",
   "metadata": {},
   "source": [
    "## Escrever dados no Caronte"
   ]
  },
  {
   "cell_type": "markdown",
   "id": "c86c8f50-8835-4727-8f30-2f62053897ff",
   "metadata": {},
   "source": [
    "Percorre em loop todos os dados que precisam ser processados e gera uma cópia dos arquivos .csv do Bucket para o Caronte."
   ]
  },
  {
   "cell_type": "code",
   "execution_count": 37,
   "id": "e57f2b71-339b-4ea0-bf60-c3658e20f85a",
   "metadata": {},
   "outputs": [
    {
     "data": {
      "application/vnd.jupyter.widget-view+json": {
       "model_id": "",
       "version_major": 2,
       "version_minor": 0
      },
      "text/plain": [
       "FloatProgress(value=0.0, bar_style='info', description='Progress:', layout=Layout(height='25px', width='50%'),…"
      ]
     },
     "metadata": {},
     "output_type": "display_data"
    }
   ],
   "source": [
    "LAMBDA_FUNCTION_NAME = \"data-engineering-sftp\""
   ]
  },
  {
   "cell_type": "code",
   "execution_count": 38,
   "id": "2cfd7eaf-b405-44e6-bb25-d9a29a29aa45",
   "metadata": {},
   "outputs": [
    {
     "data": {
      "application/vnd.jupyter.widget-view+json": {
       "model_id": "",
       "version_major": 2,
       "version_minor": 0
      },
      "text/plain": [
       "FloatProgress(value=0.0, bar_style='info', description='Progress:', layout=Layout(height='25px', width='50%'),…"
      ]
     },
     "metadata": {},
     "output_type": "display_data"
    }
   ],
   "source": [
    "nomeBucket_Caronte = 'dock-services-prd'"
   ]
  },
  {
   "cell_type": "code",
   "execution_count": 39,
   "id": "231b7764-1cc5-45f1-800e-a1642e508ac6",
   "metadata": {},
   "outputs": [
    {
     "data": {
      "application/vnd.jupyter.widget-view+json": {
       "model_id": "",
       "version_major": 2,
       "version_minor": 0
      },
      "text/plain": [
       "FloatProgress(value=0.0, bar_style='info', description='Progress:', layout=Layout(height='25px', width='50%'),…"
      ]
     },
     "metadata": {},
     "output_type": "display_data"
    }
   ],
   "source": [
    "diretorio_Caronte = 'finance/accounting/ir/remuneration'"
   ]
  },
  {
   "cell_type": "code",
   "execution_count": 40,
   "id": "25cf8e52-417b-428f-93db-131ba5ae73a1",
   "metadata": {},
   "outputs": [
    {
     "data": {
      "application/vnd.jupyter.widget-view+json": {
       "model_id": "",
       "version_major": 2,
       "version_minor": 0
      },
      "text/plain": [
       "FloatProgress(value=0.0, bar_style='info', description='Progress:', layout=Layout(height='25px', width='50%'),…"
      ]
     },
     "metadata": {},
     "output_type": "display_data"
    }
   ],
   "source": [
    "# for row in df_issuers.collect():\n",
    "    \n",
    "#     if str(row['filename']) != '000_DOCK':\n",
    "        \n",
    "#         issuer_id = str(row[\"issuer_id\"])\n",
    "#         issuer_name = str(row['issuer_name']).lower()\n",
    "#         key_issuer = str(row['filename'])\n",
    "        \n",
    "#         diretorio_relatorio_por_dia = f'{nomeDiretorioExtracao_diario}/data_processamento={data_arquivo}/key_issuer={key_issuer}/anomes={ano_mes}/decendio={decendio}'\n",
    "        \n",
    "#         PAYLOAD_EVENT_PER_DAY = {\n",
    "#                 \"sftp\":[\n",
    "#                         { \"emissor\": f\"{issuer_name}-{issuer_id}\",\n",
    "#                             \"source_bucket\": f\"{nomeBucket}\",\n",
    "#                             \"source_prefix\": f\"{diretorio_relatorio_por_dia}\",\n",
    "#                             \"target_bucket\": f\"{nomeBucket_Caronte}\",\n",
    "#                             \"target_prefix\": f\"{issuer_name}-{issuer_id}/{diretorio_Caronte}/{data_processamento}/\",\n",
    "#                             \"file_name\": \"\",\n",
    "#                             \"processo\": f\"Relatório de Conta Remunerada por dia {key_issuer}\"\n",
    "#                         }\n",
    "#                         ]\n",
    "#                 }\n",
    "         \n",
    "#         call_lambda(LAMBDA_FUNCTION_NAME, PAYLOAD_EVENT_PER_DAY)\n",
    "        \n",
    "#         print(f'Escritos no diretório do Caronte os arquivos do relatório de contas remuneradas por dia do issuer {key_issuer}')\n",
    "        \n",
    "#         diretorio_sumarizado = f'{nomeDiretorioExtracao_sumarizado}/data_processamento={data_arquivo}/key_issuer={key_issuer}/anomes={ano_mes}/decendio={decendio}'\n",
    "        \n",
    "#         PAYLOAD_EVENT_SUMARIZADO = {\n",
    "#                 \"sftp\":[\n",
    "#                         { \"emissor\": f\"{issuer_name}-{issuer_id}\",\n",
    "#                             \"source_bucket\": f\"{nomeBucket}\",\n",
    "#                             \"source_prefix\": f\"{diretorio_sumarizado}\",\n",
    "#                             \"target_bucket\": f\"{nomeBucket_Caronte}\",\n",
    "#                             \"target_prefix\": f\"{issuer_name}-{issuer_id}/{diretorio_Caronte}/{data_processamento}/\",\n",
    "#                             \"file_name\": \"\",\n",
    "#                             \"processo\": f\"Relatório de Conta Remunerada Sumarizado {key_issuer}\"\n",
    "#                         }\n",
    "#                         ]\n",
    "#                 }\n",
    "         \n",
    "#         call_lambda(LAMBDA_FUNCTION_NAME, PAYLOAD_EVENT_SUMARIZADO)\n",
    "        \n",
    "#         print(f'Escritos no diretório do Caronte os arquivos do relatório de contas remuneradas sumarizado do issuer {key_issuer}')\n",
    "        "
   ]
  },
  {
   "cell_type": "markdown",
   "id": "70388b46-3825-4601-b6af-09012a82f065",
   "metadata": {},
   "source": [
    "## Criando o arquivo Zip"
   ]
  },
  {
   "cell_type": "markdown",
   "id": "e34d0f71-ef75-4871-997f-19a9b5f7255b",
   "metadata": {},
   "source": [
    "Percorre em loop todos os dados que precisam ser processados, cria um arquivo .zip com os arquivos .csv no Bucket e remoeve os arquivos .csv do Bucket."
   ]
  },
  {
   "cell_type": "code",
   "execution_count": 41,
   "id": "5bffece0-1ede-4132-8d07-97c065d65e83",
   "metadata": {
    "tags": []
   },
   "outputs": [
    {
     "data": {
      "application/vnd.jupyter.widget-view+json": {
       "model_id": "",
       "version_major": 2,
       "version_minor": 0
      },
      "text/plain": [
       "FloatProgress(value=0.0, bar_style='info', description='Progress:', layout=Layout(height='25px', width='50%'),…"
      ]
     },
     "metadata": {},
     "output_type": "display_data"
    },
    {
     "name": "stdout",
     "output_type": "stream",
     "text": [
      "Criado arquivo zip do relatório por dia do issuer 222.\n",
      "Criado arquivo zip do relatório sumarizado do issuer 222.\n",
      "Criado arquivo zip do relatório por dia do issuer 144.\n",
      "Criado arquivo zip do relatório sumarizado do issuer 144.\n",
      "Criado arquivo zip do relatório por dia do issuer 000.\n",
      "Criado arquivo zip do relatório sumarizado do issuer 000."
     ]
    }
   ],
   "source": [
    "for i in issuer_array:\n",
    "    \n",
    "    issuer_id = i.split('_')[0]\n",
    "    key_issuer = i\n",
    "    \n",
    "    diretorio_relatorio_por_dia = f'{nomeDiretorioExtracao_diario}/data_processamento={data_arquivo}/key_issuer={key_issuer}/anomes={ano_mes}/decendio={decendio}'\n",
    "    s3_arquivo_zip(nomeBucket, diretorio_relatorio_por_dia, filename_diario, data_arquivo, key_issuer, decendio_filename)\n",
    "    \n",
    "    print(f\"Criado arquivo zip do relatório por dia do issuer {str(issuer_id)}.\")\n",
    "    \n",
    "    diretorio_sumarizado = f'{nomeDiretorioExtracao_sumarizado}/data_processamento={data_arquivo}/key_issuer={key_issuer}/anomes={ano_mes}/decendio={decendio}'\n",
    "    s3_arquivo_zip(nomeBucket, diretorio_sumarizado, filename_sumarizado, data_arquivo, key_issuer, decendio_filename)\n",
    "    \n",
    "    print(f\"Criado arquivo zip do relatório sumarizado do issuer {str(issuer_id)}.\")\n",
    "    "
   ]
  },
  {
   "cell_type": "code",
   "execution_count": 42,
   "id": "c4113107-29b9-4665-acd3-5edcb0a58c3b",
   "metadata": {},
   "outputs": [
    {
     "data": {
      "application/vnd.jupyter.widget-view+json": {
       "model_id": "",
       "version_major": 2,
       "version_minor": 0
      },
      "text/plain": [
       "FloatProgress(value=0.0, bar_style='info', description='Progress:', layout=Layout(height='25px', width='50%'),…"
      ]
     },
     "metadata": {},
     "output_type": "display_data"
    }
   ],
   "source": [
    "spark.stop()"
   ]
  },
  {
   "cell_type": "code",
   "execution_count": null,
   "id": "d8cae6b9-f894-4aae-bc0c-017c8e276c92",
   "metadata": {},
   "outputs": [],
   "source": []
  }
 ],
 "metadata": {
  "kernelspec": {
   "display_name": "PySpark",
   "language": "python",
   "name": "pysparkkernel"
  },
  "language_info": {
   "codemirror_mode": {
    "name": "python",
    "version": 3
   },
   "file_extension": ".py",
   "mimetype": "text/x-python",
   "name": "pyspark",
   "pygments_lexer": "python3"
  },
  "toc-autonumbering": true,
  "toc-showcode": false,
  "toc-showmarkdowntxt": false,
  "toc-showtags": false
 },
 "nbformat": 4,
 "nbformat_minor": 5
}
